{
 "cells": [
  {
   "cell_type": "code",
   "id": "initial_id",
   "metadata": {
    "ExecuteTime": {
     "end_time": "2025-03-21T11:34:24.305045Z",
     "start_time": "2025-03-21T11:34:23.857848Z"
    }
   },
   "source": [
    "# Import necessary libraries\n",
    "import pandas as pd\n",
    "import numpy as np\n",
    "import matplotlib.pyplot as plt\n",
    "import seaborn as sns\n",
    "from sklearn.model_selection import train_test_split, RandomizedSearchCV\n",
    "from sklearn.preprocessing import StandardScaler, LabelEncoder\n",
    "from sklearn.ensemble import RandomForestClassifier, GradientBoostingClassifier\n",
    "from sklearn.linear_model import LogisticRegression, Lasso, LinearRegression\n",
    "from sklearn.tree import DecisionTreeClassifier\n",
    "from imblearn.over_sampling import SMOTE\n",
    "from sklearn.neighbors import KNeighborsClassifier\n",
    "from sklearn.neural_network import MLPClassifier\n",
    "from sklearn.metrics import (\n",
    "    accuracy_score,\n",
    "    f1_score,\n",
    "    classification_report,\n",
    "    precision_score,\n",
    "    recall_score,\n",
    "    precision_recall_curve,\n",
    "    confusion_matrix,\n",
    "    roc_curve,\n",
    "    auc,\n",
    "    mean_squared_error\n",
    ")\n",
    "import pickle\n"
   ],
   "outputs": [],
   "execution_count": 1
  },
  {
   "cell_type": "code",
   "id": "3514ab3f36c286c9",
   "metadata": {
    "ExecuteTime": {
     "end_time": "2025-03-21T11:34:28.027269Z",
     "start_time": "2025-03-21T11:34:27.751691Z"
    }
   },
   "source": [
    "# Load dataset\n",
    "df = pd.read_csv(r'D:\\UCD\\Spring\\Data management and mining\\Group Assignment\\student_dataset.csv')"
   ],
   "outputs": [],
   "execution_count": 2
  },
  {
   "metadata": {
    "ExecuteTime": {
     "end_time": "2025-03-21T11:51:04.830725Z",
     "start_time": "2025-03-21T11:51:04.756261Z"
    }
   },
   "cell_type": "code",
   "source": [
    "# Checking for missing values\n",
    "print(\"\\nChecking for Missing Values:\")\n",
    "print(df.isnull().sum())\n",
    "\n",
    "# Checking the data types of each column\n",
    "print(\"\\nDataset Information:\")\n",
    "df.info()"
   ],
   "id": "39bb62af76fa573c",
   "outputs": [
    {
     "name": "stdout",
     "output_type": "stream",
     "text": [
      "\n",
      "Checking for Missing Values:\n",
      "Transaction.Date      0\n",
      "Transaction.Amount    0\n",
      "Customer.Age          0\n",
      "Account.Age.Days      0\n",
      "Transaction.Hour      0\n",
      "source                0\n",
      "browser               0\n",
      "Payment.Method        0\n",
      "Product.Category      0\n",
      "Quantity              0\n",
      "Device.Used           0\n",
      "Is.Fraudulent         0\n",
      "dtype: int64\n",
      "\n",
      "Dataset Information:\n",
      "<class 'pandas.core.frame.DataFrame'>\n",
      "RangeIndex: 240000 entries, 0 to 239999\n",
      "Data columns (total 12 columns):\n",
      " #   Column              Non-Null Count   Dtype  \n",
      "---  ------              --------------   -----  \n",
      " 0   Transaction.Date    240000 non-null  object \n",
      " 1   Transaction.Amount  240000 non-null  float64\n",
      " 2   Customer.Age        240000 non-null  int64  \n",
      " 3   Account.Age.Days    240000 non-null  int64  \n",
      " 4   Transaction.Hour    240000 non-null  int64  \n",
      " 5   source              240000 non-null  object \n",
      " 6   browser             240000 non-null  object \n",
      " 7   Payment.Method      240000 non-null  object \n",
      " 8   Product.Category    240000 non-null  object \n",
      " 9   Quantity            240000 non-null  int64  \n",
      " 10  Device.Used         240000 non-null  object \n",
      " 11  Is.Fraudulent       240000 non-null  int64  \n",
      "dtypes: float64(1), int64(5), object(6)\n",
      "memory usage: 22.0+ MB\n"
     ]
    }
   ],
   "execution_count": 5
  },
  {
   "metadata": {
    "ExecuteTime": {
     "end_time": "2025-03-21T11:52:59.070764Z",
     "start_time": "2025-03-21T11:52:59.049396Z"
    }
   },
   "cell_type": "code",
   "source": [
    "# Check class distribution before resampling\n",
    "fraud_counts = df['Is.Fraudulent'].value_counts()\n",
    "print(\"\\nClass Distribution Before Resampling:\")\n",
    "print(fraud_counts)\n",
    "\n",
    "# Define target variable and feature set\n",
    "target_column = 'Is.Fraudulent'\n",
    "df[target_column] = df[target_column].astype(int)\n",
    "X = df.drop(columns=[target_column])\n",
    "y = df[target_column]"
   ],
   "id": "bc948fdd7fbea1cf",
   "outputs": [
    {
     "name": "stdout",
     "output_type": "stream",
     "text": [
      "\n",
      "Class Distribution Before Resampling:\n",
      "Is.Fraudulent\n",
      "0    222718\n",
      "1     17282\n",
      "Name: count, dtype: int64\n"
     ]
    }
   ],
   "execution_count": 7
  },
  {
   "metadata": {
    "ExecuteTime": {
     "end_time": "2025-03-21T11:54:27.035677Z",
     "start_time": "2025-03-21T11:54:26.839483Z"
    }
   },
   "cell_type": "code",
   "source": [
    "# Ensure all features are numeric before applying SMOTE\n",
    "X = X.select_dtypes(include=[np.number])  # Keep only numeric columns\n",
    "\n",
    "# Address class imbalance using SMOTE\n",
    "smote = SMOTE(random_state=42)\n",
    "X_resampled, y_resampled = smote.fit_resample(X, y)\n",
    "\n",
    "# Scale the features\n",
    "scaler = StandardScaler()\n",
    "X_resampled_scaled = scaler.fit_transform(X_resampled)\n"
   ],
   "id": "c69a7d097a63d2de",
   "outputs": [],
   "execution_count": 9
  },
  {
   "cell_type": "code",
   "id": "1a86bb77cb99b6d6",
   "metadata": {
    "ExecuteTime": {
     "end_time": "2025-03-21T11:34:37.285533Z",
     "start_time": "2025-03-21T11:34:37.277523Z"
    }
   },
   "source": [
    "def preprocess_no_feature_engineering(df_raw):\n",
    "    \"\"\"Preprocess the data without additional feature engineering.\"\"\"\n",
    "    df = df_raw.copy()\n",
    "\n",
    "    # Check if 'Transaction.Date' exists in the dataset\n",
    "    if \"Transaction.Date\" in df.columns:\n",
    "        # Convert Transaction.Date to datetime\n",
    "        df[\"Transaction.Date\"] = pd.to_datetime(df[\"Transaction.Date\"], errors=\"coerce\")\n",
    "        df[\"Transaction_Day\"] = df[\"Transaction.Date\"].dt.day.fillna(\n",
    "            df[\"Transaction.Date\"].dt.day.median()\n",
    "        )\n",
    "        df[\"Transaction_Month\"] = df[\"Transaction.Date\"].dt.month.fillna(\n",
    "            df[\"Transaction.Date\"].dt.month.median()\n",
    "        )\n",
    "        df[\"Transaction_Year\"] = df[\"Transaction.Date\"].dt.year.fillna(\n",
    "            df[\"Transaction.Date\"].dt.year.median()\n",
    "        )\n",
    "        df.drop(columns=[\"Transaction.Date\"], inplace=True)\n",
    "    else:\n",
    "        print(\"Warning: 'Transaction.Date' column is missing from the dataset!\")\n",
    "        # Optionally add temporary columns if needed\n",
    "        df[\"Transaction_Day\"] = np.nan\n",
    "        df[\"Transaction_Month\"] = np.nan\n",
    "        df[\"Transaction_Year\"] = np.nan\n",
    "\n",
    "    # Handle missing values in numeric columns\n",
    "    numeric_columns = [\n",
    "        \"Transaction.Amount\",\n",
    "        \"Customer.Age\",\n",
    "        \"Account.Age.Days\",\n",
    "        \"Transaction.Hour\",\n",
    "        \"Quantity\",\n",
    "    ]\n",
    "    df[numeric_columns] = df[numeric_columns].fillna(df[numeric_columns].median())\n",
    "\n",
    "    # Encode Categorical Variables\n",
    "    categorical_columns = [\n",
    "        \"source\",\n",
    "        \"browser\",\n",
    "        \"Payment.Method\",\n",
    "        \"Product.Category\",\n",
    "        \"Device.Used\",\n",
    "    ]\n",
    "    label_encoders = {}\n",
    "    for col in categorical_columns:\n",
    "        le = LabelEncoder()\n",
    "        df[col] = df[col].fillna(df[col].mode()[0])\n",
    "        df[col] = le.fit_transform(df[col])\n",
    "        label_encoders[col] = le\n",
    "\n",
    "    # Convert Is.Fraudulent column to integer if it exists\n",
    "    if \"Is.Fraudulent\" in df.columns:\n",
    "        df[\"Is.Fraudulent\"] = df[\"Is.Fraudulent\"].astype(int)\n",
    "\n",
    "    return df"
   ],
   "outputs": [],
   "execution_count": 3
  },
  {
   "cell_type": "code",
   "id": "3936df156d04d8c8",
   "metadata": {
    "ExecuteTime": {
     "end_time": "2025-03-21T11:34:43.680478Z",
     "start_time": "2025-03-21T11:34:43.675388Z"
    }
   },
   "source": [
    "# -------------------------------- Preprocessing With Feature Engineering --------------------------------\n",
    "\n",
    "def preprocess_with_feature_engineering(df_raw):\n",
    "    \"\"\"Preprocess the data with advanced feature engineering.\"\"\"\n",
    "    df = preprocess_no_feature_engineering(df_raw)  # Start with basic preprocessing\n",
    "\n",
    "    # Add Feature Engineering\n",
    "    df[\"Transaction_per_AccountAge\"] = df[\"Transaction.Amount\"] / (df[\"Account.Age.Days\"] + 1)\n",
    "    df[\"Transaction_per_Quantity\"] = df[\"Transaction.Amount\"] / (df[\"Quantity\"] + 1)\n",
    "    df[\"Total_Spending\"] = df[\"Transaction.Amount\"] * df[\"Quantity\"]\n",
    "\n",
    "    # Spending Speed\n",
    "    df[\"Spending_Speed\"] = df[\"Total_Spending\"] / (df[\"Account.Age.Days\"] + 1)\n",
    "\n",
    "    # High Amount Transaction Flag\n",
    "    threshold = np.percentile(df[\"Transaction.Amount\"], 75)\n",
    "    df[\"High_Amount_Transaction\"] = (df[\"Transaction.Amount\"] > threshold).astype(int)\n",
    "\n",
    "    return df\n"
   ],
   "outputs": [],
   "execution_count": 4
  },
  {
   "metadata": {
    "jupyter": {
     "is_executing": true
    },
    "ExecuteTime": {
     "start_time": "2025-03-21T11:55:03.051233Z"
    }
   },
   "cell_type": "code",
   "source": [
    "# Split data into training and test sets\n",
    "X_train, X_test, y_train, y_test = train_test_split(X_resampled_scaled, y_resampled, test_size=0.2, random_state=42)\n",
    "\n",
    "# Hyperparameter Tuning using RandomizedSearchCV\n",
    "param_dist = {\n",
    "    'n_estimators': np.arange(50, 300, 50),         # [50, 100, 150, 200, 250]\n",
    "    'max_depth': [None, 10, 20, 30, 40],           # Expanded depth options\n",
    "    'min_samples_split': [2, 5, 10],               # Split options\n",
    "    'min_samples_leaf': [1, 2, 4],                # Leaf options\n",
    "    'max_features': ['sqrt', 'log2', None],       # Feature sampling options\n",
    "    'bootstrap': [True, False]                    # Bootstrapping options\n",
    "}\n",
    "\n",
    "rf = RandomForestClassifier(random_state=42)\n",
    "random_search = RandomizedSearchCV(\n",
    "    rf, param_distributions=param_dist, n_iter=20, cv=3, scoring='f1', n_jobs=-1, verbose=2, random_state=42\n",
    ")\n",
    "random_search.fit(X_train, y_train)"
   ],
   "id": "6e98dc3499746339",
   "outputs": [
    {
     "name": "stdout",
     "output_type": "stream",
     "text": [
      "Fitting 3 folds for each of 20 candidates, totalling 60 fits\n"
     ]
    }
   ],
   "execution_count": null
  },
  {
   "cell_type": "code",
   "execution_count": 6,
   "id": "a8c3da8788f37ae0",
   "metadata": {
    "ExecuteTime": {
     "end_time": "2025-03-20T21:46:38.508462Z",
     "start_time": "2025-03-20T21:46:38.498587Z"
    }
   },
   "outputs": [],
   "source": [
    "# -------------------------------- Model Training & Evaluation Function --------------------------------\n",
    "\n",
    "def train_and_evaluate(X, y, description=\"Model\"):\n",
    "    \"\"\"Train and evaluate a Random Forest classifier.\"\"\"\n",
    "    # Split into train and test sets\n",
    "    X_train, X_test, y_train, y_test = train_test_split(\n",
    "        X, y, test_size=0.2, random_state=42, stratify=y\n",
    "    )\n",
    "\n",
    "    # Standardize the features\n",
    "    scaler = StandardScaler()\n",
    "    X_train_scaled = scaler.fit_transform(X_train)\n",
    "    X_test_scaled = scaler.transform(X_test)\n",
    "\n",
    "    # Train Random Forest\n",
    "    rf_model = RandomForestClassifier(n_estimators=100, random_state=42)\n",
    "    rf_model.fit(X_train_scaled, y_train)\n",
    "\n",
    "    # Predictions\n",
    "    y_pred = rf_model.predict(X_test_scaled)\n",
    "    y_pred_proba = rf_model.predict_proba(X_test_scaled)[:, 1]\n",
    "\n",
    "    # Evaluation Metrics\n",
    "    mse = mean_squared_error(y_test, y_pred)\n",
    "    rmse = np.sqrt(mse)\n",
    "    precision = precision_score(y_test, y_pred)\n",
    "    recall = recall_score(y_test, y_pred)\n",
    "    f1 = f1_score(y_test, y_pred)\n",
    "\n",
    "    # Output\n",
    "    print(f\"\\n--- {description} ---\")\n",
    "    print(f\"Mean Squared Error (MSE): {mse:.3f}\")\n",
    "    print(f\"Root Mean Squared Error (RMSE): {rmse:.3f}\")\n",
    "    print(f\"Precision: {precision:.3f}\")\n",
    "    print(f\"Recall: {recall:.3f}\")\n",
    "    print(f\"F1 Score: {f1:.3f}\")\n",
    "\n",
    "    # Plot Confusion Matrix\n",
    "    cm = confusion_matrix(y_test, y_pred)\n",
    "    plt.figure(figsize=(6, 4))\n",
    "    sns.heatmap(\n",
    "        cm,\n",
    "        annot=True,\n",
    "        fmt=\"d\",\n",
    "        cmap=\"Blues\",\n",
    "        xticklabels=[\"Not Fraud\", \"Fraud\"],\n",
    "        yticklabels=[\"Not Fraud\", \"Fraud\"],\n",
    "    )\n",
    "    plt.xlabel(\"Predicted\")\n",
    "    plt.ylabel(\"Actual\")\n",
    "    plt.title(f\"Confusion Matrix - {description}\")\n",
    "    plt.show()\n",
    "\n",
    "    # Plot ROC Curve\n",
    "    fpr, tpr, _ = roc_curve(y_test, y_pred_proba)\n",
    "    roc_auc = auc(fpr, tpr)\n",
    "\n",
    "    plt.figure(figsize=(6, 4))\n",
    "    plt.plot(fpr, tpr, color=\"blue\", lw=2, label=f\"ROC Curve (area = {roc_auc:.2f})\")\n",
    "    plt.plot([0, 1], [0, 1], color=\"gray\", linestyle=\"--\")\n",
    "    plt.xlabel(\"False Positive Rate\")\n",
    "    plt.ylabel(\"True Positive Rate\")\n",
    "    plt.title(f\"ROC Curve - {description}\")\n",
    "    plt.legend(loc=\"lower right\")\n",
    "    plt.show()\n",
    "\n"
   ]
  },
  {
   "cell_type": "code",
   "execution_count": null,
   "id": "bf98750805b77d44",
   "metadata": {
    "ExecuteTime": {
     "end_time": "2025-03-20T21:47:52.402837Z",
     "start_time": "2025-03-20T21:47:52.394520Z"
    }
   },
   "outputs": [],
   "source": [
    "# Train the best model\n",
    "best_model = random_search.best_estimator_\n",
    "y_pred = best_model.predict(X_test)\n"
   ]
  },
  {
   "metadata": {},
   "cell_type": "code",
   "outputs": [],
   "execution_count": null,
   "source": [
    "# Evaluate the model\n",
    "print(\"Best Hyperparameters:\", random_search.best_params_)\n",
    "accuracy = accuracy_score(y_test, y_pred)\n",
    "print(f\"Best Model Accuracy on Test Set: {accuracy:.2f}\")\n",
    "print(\"\\nClassification Report:\")\n",
    "print(classification_report(y_test, y_pred))\n",
    "print(\"\\nConfusion Matrix:\")\n",
    "print(confusion_matrix(y_test, y_pred))\n",
    "print(f\"F1 Score: {f1_score(y_test, y_pred):.3f}\")"
   ],
   "id": "8a566926a1ed61b3"
  },
  {
   "metadata": {},
   "cell_type": "code",
   "outputs": [],
   "execution_count": null,
   "source": [
    "# Visualize Feature Importance\n",
    "feature_importances = best_model.feature_importances_\n",
    "features = X.columns\n",
    "sorted_idx = np.argsort(feature_importances)\n",
    "plt.figure(figsize=(10, 6))\n",
    "plt.barh(range(len(sorted_idx)), feature_importances[sorted_idx], align='center')\n",
    "plt.yticks(range(len(sorted_idx)), [features[i] for i in sorted_idx])\n",
    "plt.xlabel(\"Feature Importance\")\n",
    "plt.title(\"Feature Importance Plot\")\n",
    "plt.show()"
   ],
   "id": "3e6823891463fbb8"
  },
  {
   "metadata": {},
   "cell_type": "code",
   "outputs": [],
   "execution_count": null,
   "source": [
    "# Save the model\n",
    "filename = 'model_1.pkl'\n",
    "with open(filename, 'wb') as f:\n",
    "    pickle.dump(best_model, f)\n",
    "print(f\"Model saved as {filename}\")"
   ],
   "id": "37de6d4a3593d958"
  },
  {
   "metadata": {},
   "cell_type": "code",
   "outputs": [],
   "execution_count": null,
   "source": [
    "# Create a comparison table\n",
    "comparison_df = pd.DataFrame({'Actual': y_test, 'Predicted': y_pred, 'Probability': y_pred_proba})\n",
    "print(comparison_df.head())"
   ],
   "id": "f6807421fa9a874b"
  },
  {
   "cell_type": "markdown",
   "id": "f90fb586",
   "metadata": {},
   "source": [
    "# Model Selection and Performance Evaluation for Fraud Detection :\n"
   ]
  },
  {
   "attachments": {
    "1bf8b909-2d78-43e3-bb9f-97bc5a21a7bf.JPG": {
     "image/jpeg": "[encoded data removed]"
    }
   },
   "cell_type": "markdown",
   "id": "f2dc2ff4",
   "metadata": {},
   "source": [
    "## Introduction \n",
    "In this project, we conducted a comprehensive evaluation of nine supervised learning models to identify the most suitable approach for fraud detection. The objective was to balance accuracy and F1 score to ensure reliable fraud classification. The dataset underwent extensive preprocessing and feature engineering before model implementation. The results of our evaluations are presented in the table below.\n",
    "\n",
    "### Model Performance Overview\n",
    "![1bf8b909-2d78-43e3-bb9f-97bc5a21a7bf.JPG](attachment:1bf8b909-2d78-43e3-bb9f-97bc5a21a7bf.JPG)\n",
    "\n",
    "### Model Selection Process\n",
    "\n",
    "We tested multiple models based on their ability to detect fraudulent transactions while maintaining computational efficiency. The primary criteria for selection included accuracy, F1 score, interpretability, and scalability. Below is an evaluation of the tested models and the rationale for their inclusion or exclusion.\n",
    "\n",
    "#### Logistic Regression\n",
    "\n",
    "- **Rationale for Testing**: A fundamental classification model that provides interpretability and serves as a baseline comparison.\n",
    "\n",
    "- **Reason for Exclusion**: The model struggled to capture the complexities of fraud detection, resulting in a low F1 score of **0.328**.\n",
    "\n",
    "#### Gradient Boosting\n",
    "\n",
    "- **Rationale for Testing**: Known for its strong predictive performance and ability to handle imbalanced datasets.\n",
    "\n",
    "- **Reason for Exclusion**: Although achieving a high accuracy of 94.72%, it required significant hyperparameter tuning and computational resources, making it less practical compared to Random Forest.\n",
    "\n",
    "#### K-Nearest Neighbors (KNN)\n",
    "\n",
    "- **Rationale for Testing**: A non-parametric approach that can capture complex decision boundaries.\n",
    "\n",
    "- **Reason for Exclusion**: Computational inefficiency for large datasets and sensitivity to data scaling contributed to its lower F1 score of **0.335**.\n",
    "\n",
    "#### Decision Tree\n",
    "\n",
    "- **Rationale for Testing**: Provides explainability and fast training times.\n",
    "\n",
    "- **Reason for Exclusion**: The model exhibited high variance, leading to overfitting and a suboptimal F1 score of **0.387**.\n",
    "\n",
    "#### Neural Network (MLPClassifier)\n",
    "\n",
    "- **Rationale for Testing**: Ability to learn complex patterns through deep learning techniques.\n",
    "\n",
    "- **Reason for Exclusion**: While achieving an accuracy of 93.38%, it required extensive tuning and computational power without significant performance improvements over Random Forest.\n",
    "\n",
    "#### Ordinary Least Squares (OLS) & Lasso Regression\n",
    "\n",
    "- **Rationale for Testing**: Regression-based models were included to explore their effectiveness in binary classification.\n",
    "\n",
    "- **Reason for Exclusion**: These models were not well-suited for classification tasks, as indicated by their low F1 scores of **0.278** and **0.283**, respectively.\n",
    "\n",
    "### Final Model Selection: Random Forest Classifier \n",
    "\n",
    "After evaluating all models, Random Forest emerged as the most effective choice due to the following reasons:\n",
    "\n",
    "- **Superior Performance**: It achieved the highest accuracy (95.39%) and F1 score (57.21%), ensuring a balanced approach to fraud detection.\n",
    "\n",
    "- **Robustness to Overfitting**: Unlike Decision Trees, Random Forest mitigates overfitting by averaging multiple decision trees.\n",
    "\n",
    "- **Handling of Imbalanced Data**: The ensemble nature of the model allows for better handling of skewed class distributions.\n",
    "\n",
    "- **Computational Efficiency**: It provided a strong trade-off between predictive performance and computational cost, making it more practical than complex models like Gradient Boosting and Neural Networks.\n",
    "\n",
    "- **Feature Importance Analysis**: Random Forest allows for interpretability by ranking feature importance, which is valuable for fraud analysis.\n",
    "\n",
    "### Conclusion\n",
    "\n",
    "Following extensive testing and evaluation, Random Forest was selected as the optimal model for fraud detection. It provided the best balance between accuracy, F1 score, and computational efficiency, making it the most practical and reliable choice for the given dataset. Future work may involve fine-tuning hyperparameters and incorporating additional ensemble techniques to further enhance performance.\n",
    "\n",
    "\n",
    "\n",
    "\n"
   ]
  },
  {
   "cell_type": "code",
   "execution_count": null,
   "id": "8e7f91fc",
   "metadata": {},
   "outputs": [],
   "source": []
  }
 ],
 "metadata": {
  "kernelspec": {
   "display_name": "Python 3 (ipykernel)",
   "language": "python",
   "name": "python3"
  },
  "language_info": {
   "codemirror_mode": {
    "name": "ipython",
    "version": 3
   },
   "file_extension": ".py",
   "mimetype": "text/x-python",
   "name": "python",
   "nbconvert_exporter": "python",
   "pygments_lexer": "ipython3",
   "version": "3.9.12"
  }
 },
 "nbformat": 4,
 "nbformat_minor": 5
}
